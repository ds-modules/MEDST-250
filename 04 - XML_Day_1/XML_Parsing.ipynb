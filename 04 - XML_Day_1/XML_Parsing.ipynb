{
 "cells": [
  {
   "cell_type": "markdown",
   "metadata": {},
   "source": [
    "# [MEDST-250] Text Analysis for Medievalists\n",
    "In this Jupyter notebook, we will look to see how to analyze and parse text from an XML file. We will be looking at two different modules in Python that make it easy for us to parse through XML files. These modules will be the ElementTree module and the lxml module. Both the commands for both API's are quite similar, as you are dealing with the tree structure of XML (will be discussed later), so it is purely up to you to choose how you wish to deal with this. \n",
    "\n",
    "### Topics Covered\n",
    "- Using ElementTree module (Method 1)\n",
    "- Using lxml Module (Method 2)\n",
    "\n",
    "### Table of Contents\n",
    "\n",
    "[The Data](#section data)<br>\n",
    "\n",
    "\n",
    "1 - [Section 1: Parsing XML using ElementTree](#section 1)<br>\n",
    "\n",
    "2 - [Section 2: Parsing XML using lxml](#section 2)<br>\n",
    "\n",
    "\n",
    "\n",
    "\n",
    "**Dependencies:**"
   ]
  },
  {
   "cell_type": "code",
   "execution_count": null,
   "metadata": {
    "collapsed": true
   },
   "outputs": [],
   "source": [
    "import xml.etree.cElementTree as ET\n",
    "from lxml import etree\n",
    "## No need to worry about this, this simply imports the modules, ElementTree and lxml, that allows us to parse the XML file."
   ]
  },
  {
   "cell_type": "markdown",
   "metadata": {},
   "source": [
    "---\n",
    "\n",
    "## The Data <a id='data'></a>\n",
    "In this notebook, you'll be working with a XML file from Piers Plowman. An XML file is a basic markup of content in a file that gathers and contains a certain amount of material within different tags and subtags. We will be using this XML file to learn in general how to parse XML files of Medieval Texts The texts come from http://piers.chass.ncsu.edu/texts.html. From now on, we will be using an example in the data folder called \"ppexample.xml\" as our test for parsing through. \n",
    "\n",
    "---\n",
    "\n"
   ]
  },
  {
   "cell_type": "markdown",
   "metadata": {},
   "source": [
    "## Section 1 Parsing XML File using cElementTree Module  <a id='section 1'></a>"
   ]
  },
  {
   "cell_type": "markdown",
   "metadata": {},
   "source": [
    "First we need to import the XML file into an ElementTree instance, this basically creates a ElementTree format of all this subtags of each tag in the XML file so we can further analyze the file."
   ]
  },
  {
   "cell_type": "code",
   "execution_count": null,
   "metadata": {
    "collapsed": true
   },
   "outputs": [],
   "source": [
    "xml_file = 'data/ppexample.xml'\n",
    "tree = ET.ElementTree(file=xml_file)\n",
    "root = tree.getroot()\n",
    "print(tree.getroot())"
   ]
  },
  {
   "cell_type": "markdown",
   "metadata": {},
   "source": [
    "We then find all the child tags and roots and print them out so we can view them for better viewing in the future. An XML file has a root file that has children, and each of these children has a tag and attribute, as well as some associated text with it. "
   ]
  },
  {
   "cell_type": "code",
   "execution_count": null,
   "metadata": {
    "collapsed": true
   },
   "outputs": [],
   "source": [
    "for child in root:\n",
    "    print(child.tag, child.attrib)\n",
    "    for step_child in child:\n",
    "        print(\"Step Child Tag: \" + step_child.tag)\n",
    "        for child in step_child:\n",
    "            \n",
    "            print(\"Children of this: \" + child.tag)"
   ]
  },
  {
   "cell_type": "markdown",
   "metadata": {},
   "source": [
    "Now we can see each child tag and it's step child tags that come from it. This is where the \"Tree\" hierarchy of each element tag comes in, each tag has it's own sub/step childs that branch off of it. \n",
    "\n",
    "To fully grasp this ideology, we can iterate through all the elements in the XML file by creating an iterator (something that goes through all parts of a file) and iterating through all possible elements/their tags"
   ]
  },
  {
   "cell_type": "code",
   "execution_count": null,
   "metadata": {
    "collapsed": true
   },
   "outputs": [],
   "source": [
    "iter_ = tree.getiterator()\n",
    "for elem in iter_:\n",
    "    print(\"Element tag: \" + elem.tag)"
   ]
  },
  {
   "cell_type": "markdown",
   "metadata": {},
   "source": [
    "We now see, there are so many tags of certain names. In our tree variable we can then look for specific types of tags such as dates by getting the \"text\" attribute out of each element.\n"
   ]
  },
  {
   "cell_type": "code",
   "execution_count": null,
   "metadata": {
    "collapsed": true
   },
   "outputs": [],
   "source": [
    "for elem in iter_:\n",
    "    if elem.tag == \"date\":\n",
    "        print(elem.text)"
   ]
  },
  {
   "cell_type": "markdown",
   "metadata": {},
   "source": [
    "This allows us for easier search based on the attributes we are looking for such as dates or names, I've found a sample XML function that parses through XML file using element tree and prints out the tags inside the file below:"
   ]
  },
  {
   "cell_type": "code",
   "execution_count": null,
   "metadata": {
    "collapsed": true
   },
   "outputs": [],
   "source": [
    "def parseXML(xml_file):\n",
    "    \"\"\"\n",
    "    Parse XML with ElementTree\n",
    "    \"\"\"\n",
    "    tree = ET.ElementTree(file=xml_file)\n",
    "    print(tree.getroot())\n",
    "    root = tree.getroot()\n",
    "    print(\"tag=%s, attrib=%s\" % (root.tag, root.attrib))\n",
    " \n",
    "    for child in root:\n",
    "        print(\"child tag: \" + child.tag, child.attrib)\n",
    "        for step_child in child:\n",
    "            print(\"step child tag: \"+ step_child.tag)\n",
    " \n",
    "    # iterate over the entire tree\n",
    "    print(\"-\" * 40) \n",
    "    print(\"Iterating using a tree iterator\") \n",
    "    print(\"-\" * 40) \n",
    "    iter_ = tree.getiterator()\n",
    "    for elem in iter_:\n",
    "        if elem.text != None:\n",
    "            print(\"Elem Tag: \" + elem.tag, \"Elem Text: \" + elem.text)\n",
    "\n",
    "        \n",
    "parseXML('data/ppexample.xml')"
   ]
  },
  {
   "cell_type": "markdown",
   "metadata": {},
   "source": [
    "Go ahead and play around with the file \"data/ppexample.xml\", this will allow you to see how XML files can be parsed through and indexed to find actual information."
   ]
  },
  {
   "cell_type": "markdown",
   "metadata": {},
   "source": [
    "---\n",
    "<b>Question 1:</b> Create a list of all the possible Labels and the text and terms associated with them. Labels and terms are XML tags that can be indexed.\n",
    "\n",
    "<b>Answer: </b> Below\n"
   ]
  },
  {
   "cell_type": "code",
   "execution_count": null,
   "metadata": {
    "collapsed": true
   },
   "outputs": [],
   "source": [
    "search = [\"label\", \"term\"]\n",
    "for elem in iter_:\n",
    "        if elem.text != None and elem.tag in search :\n",
    "            print(\"Elem Tag: \" + elem.tag + \"||\" \"Elem Text: \" + elem.text)\n"
   ]
  },
  {
   "cell_type": "markdown",
   "metadata": {},
   "source": [
    "---"
   ]
  },
  {
   "cell_type": "markdown",
   "metadata": {},
   "source": [
    "## Section 2 Using lxml Module <a id='section 2'></a>"
   ]
  },
  {
   "cell_type": "markdown",
   "metadata": {},
   "source": [
    "Now we're going to look at another module, lxml, that allows us to parse through XML files as well. It follows the tree format that XML gives us and parses similar to ElementTree above, however allows us to have a lot more succint of a function than above."
   ]
  },
  {
   "cell_type": "code",
   "execution_count": null,
   "metadata": {
    "collapsed": true
   },
   "outputs": [],
   "source": [
    "def parseBookXML(xmlFile):\n",
    "    \"\"\"\"\"\"\n",
    "    context = etree.iterparse(xmlFile)\n",
    "    book_dict = {}\n",
    "    books = []\n",
    "    #Searches through elements in the etree, then adds them to a dictionary\n",
    "    for action, elem in context:\n",
    "        if not elem.text:\n",
    "            text = \"None\"\n",
    "        else:\n",
    "            text = elem.text\n",
    "        print(elem.tag + \" => \" + text)\n",
    "        book_dict[elem.tag] = text\n",
    "        #Can search for certain tags\n",
    "        if elem.tag == \"book\":\n",
    "            books.append(book_dict)\n",
    "            book_dict = {}\n",
    "    return books\n",
    " \n",
    "parseBookXML('data/ppexample.xml')"
   ]
  },
  {
   "cell_type": "markdown",
   "metadata": {},
   "source": [
    "---\n",
    "\n",
    "## Bibliography"
   ]
  },
  {
   "cell_type": "markdown",
   "metadata": {},
   "source": [
    "All work is adapted or taken from:\n",
    "- Driscoll, Mike. (2013, April). Python 101 – Intro to XML Parsing with ElementTree. Retrieved from https://www.blog.pythonlibrary.org/2013/04/30/python-101-intro-to-xml-parsing-with-elementtree/\n",
    "\n",
    "- Driscoll, Mike. (2010, November). Python: Parsing XML with lxml. Retrieved from https://www.blog.pythonlibrary.org/2010/11/20/python-parsing-xml-with-lxml/\n"
   ]
  },
  {
   "cell_type": "markdown",
   "metadata": {},
   "source": [
    "---\n",
    "Notebook developed by: Tejas Priyadarshan\n",
    "\n",
    "Data Science Modules: http://data.berkeley.edu/education/modules\n"
   ]
  }
 ],
 "metadata": {
  "anaconda-cloud": {},
  "celltoolbar": "Raw Cell Format",
  "kernelspec": {
   "display_name": "Python 3",
   "language": "python",
   "name": "python3"
  },
  "language_info": {
   "codemirror_mode": {
    "name": "ipython",
    "version": 3
   },
   "file_extension": ".py",
   "mimetype": "text/x-python",
   "name": "python",
   "nbconvert_exporter": "python",
   "pygments_lexer": "ipython3",
   "version": "3.6.3"
  }
 },
 "nbformat": 4,
 "nbformat_minor": 1
}
