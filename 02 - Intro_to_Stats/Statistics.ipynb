{
 "cells": [
  {
   "cell_type": "code",
   "execution_count": null,
   "metadata": {},
   "outputs": [],
   "source": [
    "import pandas as pd\n",
    "import matplotlib.pyplot as plt\n",
    "import re\n",
    "import numpy as np\n",
    "import statsmodels.formula.api as smf\n",
    "%matplotlib inline"
   ]
  },
  {
   "cell_type": "code",
   "execution_count": null,
   "metadata": {},
   "outputs": [],
   "source": [
    "df = pd.read_csv('data/BSB-HS.csv')"
   ]
  },
  {
   "cell_type": "code",
   "execution_count": null,
   "metadata": {},
   "outputs": [],
   "source": [
    "df.head()"
   ]
  },
  {
   "cell_type": "code",
   "execution_count": null,
   "metadata": {},
   "outputs": [],
   "source": [
    "def get_year(x):\n",
    "    \n",
    "    if pd.isnull(x):\n",
    "        return None\n",
    "    \n",
    "    pattern0 = r'([0-9]+)\\./([0-9]+)\\.\\sJh\\.'\n",
    "    if re.search(pattern0, x) != None:\n",
    "        tot = int(re.search(pattern0, x).groups()[0] + '00') + int(re.search(pattern0, x).groups()[1] + '00')\n",
    "        return tot/2\n",
    "\n",
    "    pattern3 = r'1\\.\\sHälfte\\s([0-9]+)\\.\\sJh\\.'\n",
    "    if re.search(pattern3, x) != None:\n",
    "        return int(re.search(pattern3, x).groups()[0] + '00') - 75\n",
    "    \n",
    "    pattern4 = r'2\\.\\sHälfte\\s([0-9]+)\\.\\sJh\\.'\n",
    "    if re.search(pattern4, x) != None:\n",
    "        return int(re.search(pattern4, x).groups()[0] + '00') - 25\n",
    "    \n",
    "    pattern5 = r'Mitte\\s([0-9]+)\\.\\sJh\\.'\n",
    "    if re.search(pattern5, x) != None:\n",
    "        return int(re.search(pattern5, x).groups()[0] + '00') - 50\n",
    "\n",
    "    pattern6 = r'Ende\\s([0-9]+)\\.\\sJh\\.'\n",
    "    if re.search(pattern6, x) != None:\n",
    "        return int(re.search(pattern6, x).groups()[0] + '00') - 10\n",
    "    \n",
    "    pattern7 = r'1\\.\\sViertel\\s([0-9]+)\\.\\sJh\\.'\n",
    "    if re.search(pattern7, x) != None:\n",
    "        return int(re.search(pattern7, x).groups()[0] + '00') - 80\n",
    "    \n",
    "    pattern8 = r'2\\.\\sViertel\\s([0-9]+)\\.\\sJh\\.'\n",
    "    if re.search(pattern8, x) != None:\n",
    "        return int(re.search(pattern8, x).groups()[0] + '00') - 60\n",
    "    \n",
    "    pattern9 = r'3\\.\\sViertel\\s([0-9]+)\\.\\sJh\\.'\n",
    "    if re.search(pattern9, x) != None:\n",
    "        return int(re.search(pattern9, x).groups()[0] + '00') - 40\n",
    "    \n",
    "    pattern10 = r'4\\.\\sViertel\\s([0-9]+)\\.\\sJh\\.'\n",
    "    if re.search(pattern10, x) != None:\n",
    "        return int(re.search(pattern10, x).groups()[0] + '00') - 20\n",
    "    \n",
    "    pattern1 = r'([0-9]+)\\.\\sJh\\.'\n",
    "    if re.search(pattern1, x) != None:\n",
    "        return int(re.search(pattern1, x).groups()[0] + '00') - 100\n",
    "    \n",
    "    pattern2 = r'([0-9]{4})'\n",
    "    if re.search(pattern2, x) != None:\n",
    "        return int(re.search(pattern2, x).groups()[0])\n",
    "    \n",
    "    else:\n",
    "        return None\n",
    "    \n",
    "def get_extent(x):\n",
    "    \n",
    "    if pd.isnull(x):\n",
    "        return None\n",
    "    \n",
    "    pattern = r'([0-9]+)\\sBl\\.'\n",
    "    if re.search(pattern, x) != None:\n",
    "        return int(re.search(pattern, x).groups()[0])\n",
    "    \n",
    "    else:\n",
    "        return None\n",
    "    \n",
    "    \n",
    "def fix_lang(x):\n",
    "    if type(x) == str and len(x) > 0:\n",
    "        return x\n",
    "    else:\n",
    "        return None"
   ]
  },
  {
   "cell_type": "code",
   "execution_count": null,
   "metadata": {},
   "outputs": [],
   "source": [
    "df['Year'] = df['Creation'].apply(get_year)\n",
    "df['Pages'] = df['Extent'].apply(get_extent)\n",
    "df['Area'] = df['Height'] * df['Width']\n",
    "df['Language'] = df['Language'].apply(fix_lang)"
   ]
  },
  {
   "cell_type": "code",
   "execution_count": null,
   "metadata": {},
   "outputs": [],
   "source": [
    "df.head()"
   ]
  },
  {
   "cell_type": "code",
   "execution_count": null,
   "metadata": {},
   "outputs": [],
   "source": [
    "df[['Language', 'Pages']].dropna().groupby(['Language'])['Pages'].mean()"
   ]
  },
  {
   "cell_type": "code",
   "execution_count": null,
   "metadata": {},
   "outputs": [],
   "source": [
    "df[['Language', 'Area']].dropna().groupby(['Language'])['Area'].mean()"
   ]
  },
  {
   "cell_type": "code",
   "execution_count": null,
   "metadata": {},
   "outputs": [],
   "source": [
    "df[['Language', 'Pages']].dropna().boxplot(column='Pages', by='Language', rot=90, figsize=(15,10))"
   ]
  },
  {
   "cell_type": "code",
   "execution_count": null,
   "metadata": {},
   "outputs": [],
   "source": [
    "df[['Language', 'Height']].dropna().boxplot(column='Height', by='Language',rot=90, figsize=(15,10))"
   ]
  },
  {
   "cell_type": "code",
   "execution_count": null,
   "metadata": {},
   "outputs": [],
   "source": [
    "df[['Language', 'Width']].dropna().boxplot(column='Width', by='Language', rot=90, figsize=(15,10))"
   ]
  },
  {
   "cell_type": "code",
   "execution_count": null,
   "metadata": {},
   "outputs": [],
   "source": [
    "df[['Language', 'Area']].dropna().boxplot(column='Area', by='Language', rot=90, figsize=(15,10))"
   ]
  },
  {
   "cell_type": "code",
   "execution_count": null,
   "metadata": {},
   "outputs": [],
   "source": [
    "from scipy.stats import ttest_ind\n",
    "\n",
    "cat1 = df[df['Language']=='German'][['Language', 'Pages']].dropna()\n",
    "cat2 = df[df['Language']=='Latin'][['Language', 'Pages']].dropna()\n",
    "\n",
    "ttest_ind(cat1['Pages'], cat2['Pages'])"
   ]
  },
  {
   "cell_type": "code",
   "execution_count": null,
   "metadata": {},
   "outputs": [],
   "source": [
    "df.hist('Year')"
   ]
  },
  {
   "cell_type": "code",
   "execution_count": null,
   "metadata": {},
   "outputs": [],
   "source": [
    "df.plot.scatter('Height', 'Width')"
   ]
  },
  {
   "cell_type": "code",
   "execution_count": null,
   "metadata": {},
   "outputs": [],
   "source": [
    "mod = smf.ols(formula='Width ~ Height', data=df)\n",
    "res = mod.fit()\n",
    "print(res.summary())"
   ]
  },
  {
   "cell_type": "code",
   "execution_count": null,
   "metadata": {},
   "outputs": [],
   "source": [
    "df.plot.scatter('Year', 'Pages')"
   ]
  },
  {
   "cell_type": "code",
   "execution_count": null,
   "metadata": {},
   "outputs": [],
   "source": [
    "mod = smf.ols(formula='Pages ~ Year', data=df)\n",
    "res = mod.fit()\n",
    "print(res.summary())"
   ]
  },
  {
   "cell_type": "code",
   "execution_count": null,
   "metadata": {},
   "outputs": [],
   "source": [
    "df.plot.scatter('Year', 'Area')"
   ]
  },
  {
   "cell_type": "code",
   "execution_count": null,
   "metadata": {},
   "outputs": [],
   "source": [
    "df.corr()"
   ]
  },
  {
   "cell_type": "code",
   "execution_count": null,
   "metadata": {},
   "outputs": [],
   "source": [
    "bins = list(range(700, 1601, 50))"
   ]
  },
  {
   "cell_type": "code",
   "execution_count": null,
   "metadata": {},
   "outputs": [],
   "source": [
    "df['Year_Bins'] = pd.cut(df['Year'], bins)"
   ]
  },
  {
   "cell_type": "code",
   "execution_count": null,
   "metadata": {},
   "outputs": [],
   "source": [
    "df.groupby(['Year_Bins'])['Pages'].mean().plot.barh()"
   ]
  },
  {
   "cell_type": "code",
   "execution_count": null,
   "metadata": {},
   "outputs": [],
   "source": []
  }
 ],
 "metadata": {
  "anaconda-cloud": {},
  "kernelspec": {
   "display_name": "Python [default]",
   "language": "python",
   "name": "python3"
  },
  "language_info": {
   "codemirror_mode": {
    "name": "ipython",
    "version": 3
   },
   "file_extension": ".py",
   "mimetype": "text/x-python",
   "name": "python",
   "nbconvert_exporter": "python",
   "pygments_lexer": "ipython3",
   "version": "3.5.2"
  }
 },
 "nbformat": 4,
 "nbformat_minor": 2
}
