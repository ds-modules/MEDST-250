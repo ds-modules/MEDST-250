{
 "cells": [
  {
   "cell_type": "code",
   "execution_count": 1,
   "metadata": {
    "collapsed": true
   },
   "outputs": [],
   "source": [
    "#!pip install -U statsmodels"
   ]
  },
  {
   "cell_type": "markdown",
   "metadata": {},
   "source": [
    "<div style='background-image: url(\"../share/Aerial_view_LLNL.jpg\") ; padding: 0px ; background-size: cover ; border-radius: 15px ; height: 250px; background-position: 0% 80%'>\n",
    "    <div style=\"float: center ; margin: 50px ; padding: 20px ; background: rgba(255 , 255 , 255 , 0.8) ; width: 50% ; height: 150px\">\n",
    "        <div style=\"position: relative ; top: 50% ; transform: translatey(-50%)\">\n",
    "            <div style=\"font-size: xx-large ; font-weight: 900 ; color: rgba(0 , 0 , 0 , 0.9) ; line-height: 100%\">Notebook 5:</div>\n",
    "            <div style=\"font-size: x-large ; padding-top: 20px ; color: rgba(0 , 0 , 0 , 0.7)\">Statistics for Digital Humanists</div>\n",
    "            <div style=\"font-size: large ; padding-top: 20px ; color: rgba(0 , 0 , 0 , 0.7)\">Estimated Time: 60 minutes</div>\n",
    "        </div>\n",
    "    </div>\n",
    "</div>"
   ]
  },
  {
   "cell_type": "markdown",
   "metadata": {},
   "source": [
    "# Introduction to Statistics\n",
    "In this jupyter notebook, we will learn some basic statistics:\n",
    "\n",
    "1. [Mean, Median, Mode](#1)\n",
    "2. [Standard Deviation](#2)\n",
    "3. [T-test](#3)\n",
    "4. [Correlation](#4)\n",
    "5. [Light Regression](#5)\n",
    "6. [Frequenices of Words](#6)"
   ]
  },
  {
   "cell_type": "markdown",
   "metadata": {},
   "source": [
    "## 0. Preparing Our Dataset  <a id='0'></a>\n",
    "We will use some metadata on manuscripts.\n",
    "\n",
    "For the most part, you don't have to worry about all the codes we used in this section to fix the data and make it more usable for out purpose of learning basic statistic. Instead, you can skip to the end of this section 0 and try to familiarize yourself with the [cleaned dataset](#clean)."
   ]
  },
  {
   "cell_type": "code",
   "execution_count": 1,
   "metadata": {},
   "outputs": [],
   "source": [
    "# This simply sets up the notebook. Don't worry about this for now.\n",
    "\n",
    "import pandas as pd\n",
    "import matplotlib.pyplot as plt\n",
    "import re\n",
    "import numpy as np\n",
    "import seaborn as sns\n",
    "from scipy.stats import ttest_ind\n",
    "%matplotlib inline\n",
    "\n",
    "import warnings\n",
    "warnings.filterwarnings('ignore')"
   ]
  },
  {
   "cell_type": "code",
   "execution_count": 2,
   "metadata": {},
   "outputs": [],
   "source": [
    "df = pd.read_csv('data/BSB-HS.csv')"
   ]
  },
  {
   "cell_type": "code",
   "execution_count": 3,
   "metadata": {},
   "outputs": [
    {
     "data": {
      "text/html": [
       "<div>\n",
       "<style scoped>\n",
       "    .dataframe tbody tr th:only-of-type {\n",
       "        vertical-align: middle;\n",
       "    }\n",
       "\n",
       "    .dataframe tbody tr th {\n",
       "        vertical-align: top;\n",
       "    }\n",
       "\n",
       "    .dataframe thead th {\n",
       "        text-align: right;\n",
       "    }\n",
       "</style>\n",
       "<table border=\"1\" class=\"dataframe\">\n",
       "  <thead>\n",
       "    <tr style=\"text-align: right;\">\n",
       "      <th></th>\n",
       "      <th>Author</th>\n",
       "      <th>BSB Catalog</th>\n",
       "      <th>By</th>\n",
       "      <th>Creation</th>\n",
       "      <th>Digital Object Identifier</th>\n",
       "      <th>Extent</th>\n",
       "      <th>Height</th>\n",
       "      <th>Identifier</th>\n",
       "      <th>Label</th>\n",
       "      <th>Language</th>\n",
       "      <th>Location</th>\n",
       "      <th>Object Type</th>\n",
       "      <th>Preferred title of work</th>\n",
       "      <th>Thumbnail</th>\n",
       "      <th>Title</th>\n",
       "      <th>Width</th>\n",
       "    </tr>\n",
       "  </thead>\n",
       "  <tbody>\n",
       "    <tr>\n",
       "      <th>0</th>\n",
       "      <td>&lt;span&gt;Christianus, Stabulensis -- (GND: &lt;a hre...</td>\n",
       "      <td>&lt;a href='https://opacplus.bsb-muenchen.de/titl...</td>\n",
       "      <td>Christianus Stabulensis</td>\n",
       "      <td>[S.l.], 14./15. Jh.</td>\n",
       "      <td>&lt;a href='https://nbn-resolving.org/urn:nbn:de:...</td>\n",
       "      <td>I + 174 Bl. - Pergament</td>\n",
       "      <td>33.952409</td>\n",
       "      <td>BSB-Hss Clm 4527</td>\n",
       "      <td>Christianus, Stabulensis: Expositio in evangel...</td>\n",
       "      <td>Latin</td>\n",
       "      <td>München, Bayerische Staatsbibliothek -- Clm 45...</td>\n",
       "      <td>Buch</td>\n",
       "      <td>NaN</td>\n",
       "      <td>https://api.digitale-sammlungen.de/iiif/image/...</td>\n",
       "      <td>Expositio in evangelium Matthaei - BSB Clm 4527</td>\n",
       "      <td>23.232533</td>\n",
       "    </tr>\n",
       "    <tr>\n",
       "      <th>1</th>\n",
       "      <td>&lt;span&gt;Gratianus, de Clusio -- (GND: &lt;a href='h...</td>\n",
       "      <td>&lt;a href='https://opacplus.bsb-muenchen.de/titl...</td>\n",
       "      <td>NaN</td>\n",
       "      <td>[S.l.], 14./15. Jh.</td>\n",
       "      <td>&lt;a href='https://nbn-resolving.org/urn:nbn:de:...</td>\n",
       "      <td>342 Bl. - Pergament</td>\n",
       "      <td>50.471658</td>\n",
       "      <td>BSB-Hss Clm 23552</td>\n",
       "      <td>Gratianus, de Clusio: Gratiani decretum cum gl...</td>\n",
       "      <td>Latin</td>\n",
       "      <td>München, Bayerische Staatsbibliothek -- Clm 23552</td>\n",
       "      <td>Buch</td>\n",
       "      <td>NaN</td>\n",
       "      <td>https://api.digitale-sammlungen.de/iiif/image/...</td>\n",
       "      <td>Gratiani decretum cum glosa - BSB Clm 23552</td>\n",
       "      <td>31.178500</td>\n",
       "    </tr>\n",
       "    <tr>\n",
       "      <th>2</th>\n",
       "      <td>&lt;span&gt;Konrad, von Brundelsheim, Heilsbronn, Ab...</td>\n",
       "      <td>&lt;a href='https://opacplus.bsb-muenchen.de/titl...</td>\n",
       "      <td>NaN</td>\n",
       "      <td>[S.l.], 1400</td>\n",
       "      <td>&lt;a href='https://nbn-resolving.org/urn:nbn:de:...</td>\n",
       "      <td>283 Bl. - Papier</td>\n",
       "      <td>31.110980</td>\n",
       "      <td>BSB-Hss Clm 8847</td>\n",
       "      <td>Konrad, von Brundelsheim, Heilsbronn, Abt: Con...</td>\n",
       "      <td>Latin</td>\n",
       "      <td>München, Bayerische Staatsbibliothek -- Clm 8847</td>\n",
       "      <td>Buch</td>\n",
       "      <td>NaN</td>\n",
       "      <td>https://api.digitale-sammlungen.de/iiif/image/...</td>\n",
       "      <td>Conradi Socci sermonum de tempore pars aestiva...</td>\n",
       "      <td>21.488400</td>\n",
       "    </tr>\n",
       "    <tr>\n",
       "      <th>3</th>\n",
       "      <td>NaN</td>\n",
       "      <td>&lt;a href='https://opacplus.bsb-muenchen.de/titl...</td>\n",
       "      <td>NaN</td>\n",
       "      <td>[S.l.], 15. Jh.</td>\n",
       "      <td>&lt;a href='https://nbn-resolving.org/urn:nbn:de:...</td>\n",
       "      <td>291 Bl. - Papier</td>\n",
       "      <td>32.988034</td>\n",
       "      <td>BSB-Hss Clm 15141</td>\n",
       "      <td>Haymo episcopus Halberstatensis super Apocalyp...</td>\n",
       "      <td>Latin</td>\n",
       "      <td>München, Bayerische Staatsbibliothek -- Clm 15141</td>\n",
       "      <td>Buch</td>\n",
       "      <td>NaN</td>\n",
       "      <td>https://api.digitale-sammlungen.de/iiif/image/...</td>\n",
       "      <td>Haymo episcopus Halberstatensis super Apocalyp...</td>\n",
       "      <td>21.399500</td>\n",
       "    </tr>\n",
       "    <tr>\n",
       "      <th>4</th>\n",
       "      <td>&lt;span&gt;Johannes, de Lignano -- (GND: &lt;a href='h...</td>\n",
       "      <td>&lt;a href='https://opacplus.bsb-muenchen.de/titl...</td>\n",
       "      <td>Johannes de Lignano</td>\n",
       "      <td>[S.l.] Böhmen (?), um 1400</td>\n",
       "      <td>&lt;a href='https://nbn-resolving.org/urn:nbn:de:...</td>\n",
       "      <td>I + 328 Bl. - Papier</td>\n",
       "      <td>32.674505</td>\n",
       "      <td>BSB-Hss Clm 14257</td>\n",
       "      <td>Johannes, de Lignano: Commentarius in Decretal...</td>\n",
       "      <td>Latin</td>\n",
       "      <td>München, Bayerische Staatsbibliothek -- Clm 14257</td>\n",
       "      <td>Buch</td>\n",
       "      <td>NaN</td>\n",
       "      <td>https://api.digitale-sammlungen.de/iiif/image/...</td>\n",
       "      <td>Commentarius in Decretales Gregorii IX. papae ...</td>\n",
       "      <td>22.783800</td>\n",
       "    </tr>\n",
       "  </tbody>\n",
       "</table>\n",
       "</div>"
      ],
      "text/plain": [
       "                                              Author  \\\n",
       "0  <span>Christianus, Stabulensis -- (GND: <a hre...   \n",
       "1  <span>Gratianus, de Clusio -- (GND: <a href='h...   \n",
       "2  <span>Konrad, von Brundelsheim, Heilsbronn, Ab...   \n",
       "3                                                NaN   \n",
       "4  <span>Johannes, de Lignano -- (GND: <a href='h...   \n",
       "\n",
       "                                         BSB Catalog                       By  \\\n",
       "0  <a href='https://opacplus.bsb-muenchen.de/titl...  Christianus Stabulensis   \n",
       "1  <a href='https://opacplus.bsb-muenchen.de/titl...                      NaN   \n",
       "2  <a href='https://opacplus.bsb-muenchen.de/titl...                      NaN   \n",
       "3  <a href='https://opacplus.bsb-muenchen.de/titl...                      NaN   \n",
       "4  <a href='https://opacplus.bsb-muenchen.de/titl...      Johannes de Lignano   \n",
       "\n",
       "                     Creation  \\\n",
       "0         [S.l.], 14./15. Jh.   \n",
       "1         [S.l.], 14./15. Jh.   \n",
       "2                [S.l.], 1400   \n",
       "3             [S.l.], 15. Jh.   \n",
       "4  [S.l.] Böhmen (?), um 1400   \n",
       "\n",
       "                           Digital Object Identifier                   Extent  \\\n",
       "0  <a href='https://nbn-resolving.org/urn:nbn:de:...  I + 174 Bl. - Pergament   \n",
       "1  <a href='https://nbn-resolving.org/urn:nbn:de:...      342 Bl. - Pergament   \n",
       "2  <a href='https://nbn-resolving.org/urn:nbn:de:...         283 Bl. - Papier   \n",
       "3  <a href='https://nbn-resolving.org/urn:nbn:de:...         291 Bl. - Papier   \n",
       "4  <a href='https://nbn-resolving.org/urn:nbn:de:...     I + 328 Bl. - Papier   \n",
       "\n",
       "      Height         Identifier  \\\n",
       "0  33.952409   BSB-Hss Clm 4527   \n",
       "1  50.471658  BSB-Hss Clm 23552   \n",
       "2  31.110980   BSB-Hss Clm 8847   \n",
       "3  32.988034  BSB-Hss Clm 15141   \n",
       "4  32.674505  BSB-Hss Clm 14257   \n",
       "\n",
       "                                               Label Language  \\\n",
       "0  Christianus, Stabulensis: Expositio in evangel...    Latin   \n",
       "1  Gratianus, de Clusio: Gratiani decretum cum gl...    Latin   \n",
       "2  Konrad, von Brundelsheim, Heilsbronn, Abt: Con...    Latin   \n",
       "3  Haymo episcopus Halberstatensis super Apocalyp...    Latin   \n",
       "4  Johannes, de Lignano: Commentarius in Decretal...    Latin   \n",
       "\n",
       "                                            Location Object Type  \\\n",
       "0  München, Bayerische Staatsbibliothek -- Clm 45...        Buch   \n",
       "1  München, Bayerische Staatsbibliothek -- Clm 23552        Buch   \n",
       "2   München, Bayerische Staatsbibliothek -- Clm 8847        Buch   \n",
       "3  München, Bayerische Staatsbibliothek -- Clm 15141        Buch   \n",
       "4  München, Bayerische Staatsbibliothek -- Clm 14257        Buch   \n",
       "\n",
       "  Preferred title of work                                          Thumbnail  \\\n",
       "0                     NaN  https://api.digitale-sammlungen.de/iiif/image/...   \n",
       "1                     NaN  https://api.digitale-sammlungen.de/iiif/image/...   \n",
       "2                     NaN  https://api.digitale-sammlungen.de/iiif/image/...   \n",
       "3                     NaN  https://api.digitale-sammlungen.de/iiif/image/...   \n",
       "4                     NaN  https://api.digitale-sammlungen.de/iiif/image/...   \n",
       "\n",
       "                                               Title      Width  \n",
       "0    Expositio in evangelium Matthaei - BSB Clm 4527  23.232533  \n",
       "1        Gratiani decretum cum glosa - BSB Clm 23552  31.178500  \n",
       "2  Conradi Socci sermonum de tempore pars aestiva...  21.488400  \n",
       "3  Haymo episcopus Halberstatensis super Apocalyp...  21.399500  \n",
       "4  Commentarius in Decretales Gregorii IX. papae ...  22.783800  "
      ]
     },
     "execution_count": 3,
     "metadata": {},
     "output_type": "execute_result"
    }
   ],
   "source": [
    "df.head()"
   ]
  },
  {
   "cell_type": "code",
   "execution_count": 4,
   "metadata": {},
   "outputs": [],
   "source": [
    "def get_year(x):\n",
    "    \n",
    "    if pd.isnull(x):\n",
    "        return None\n",
    "    \n",
    "    pattern0 = r'([0-9]+)\\./([0-9]+)\\.\\sJh\\.'\n",
    "    if re.search(pattern0, x) != None:\n",
    "        tot = int(re.search(pattern0, x).groups()[0] + '00') + int(re.search(pattern0, x).groups()[1] + '00')\n",
    "        return tot/2\n",
    "\n",
    "    pattern3 = r'1\\.\\sHälfte\\s([0-9]+)\\.\\sJh\\.'\n",
    "    if re.search(pattern3, x) != None:\n",
    "        return int(re.search(pattern3, x).groups()[0] + '00') - 75\n",
    "    \n",
    "    pattern4 = r'2\\.\\sHälfte\\s([0-9]+)\\.\\sJh\\.'\n",
    "    if re.search(pattern4, x) != None:\n",
    "        return int(re.search(pattern4, x).groups()[0] + '00') - 25\n",
    "    \n",
    "    pattern5 = r'Mitte\\s([0-9]+)\\.\\sJh\\.'\n",
    "    if re.search(pattern5, x) != None:\n",
    "        return int(re.search(pattern5, x).groups()[0] + '00') - 50\n",
    "\n",
    "    pattern6 = r'Ende\\s([0-9]+)\\.\\sJh\\.'\n",
    "    if re.search(pattern6, x) != None:\n",
    "        return int(re.search(pattern6, x).groups()[0] + '00') - 10\n",
    "    \n",
    "    pattern7 = r'1\\.\\sViertel\\s([0-9]+)\\.\\sJh\\.'\n",
    "    if re.search(pattern7, x) != None:\n",
    "        return int(re.search(pattern7, x).groups()[0] + '00') - 80\n",
    "    \n",
    "    pattern8 = r'2\\.\\sViertel\\s([0-9]+)\\.\\sJh\\.'\n",
    "    if re.search(pattern8, x) != None:\n",
    "        return int(re.search(pattern8, x).groups()[0] + '00') - 60\n",
    "    \n",
    "    pattern9 = r'3\\.\\sViertel\\s([0-9]+)\\.\\sJh\\.'\n",
    "    if re.search(pattern9, x) != None:\n",
    "        return int(re.search(pattern9, x).groups()[0] + '00') - 40\n",
    "    \n",
    "    pattern10 = r'4\\.\\sViertel\\s([0-9]+)\\.\\sJh\\.'\n",
    "    if re.search(pattern10, x) != None:\n",
    "        return int(re.search(pattern10, x).groups()[0] + '00') - 20\n",
    "    \n",
    "    pattern1 = r'([0-9]+)\\.\\sJh\\.'\n",
    "    if re.search(pattern1, x) != None:\n",
    "        return int(re.search(pattern1, x).groups()[0] + '00') - 100\n",
    "    \n",
    "    pattern2 = r'([0-9]{4})'\n",
    "    if re.search(pattern2, x) != None:\n",
    "        return int(re.search(pattern2, x).groups()[0])\n",
    "    \n",
    "    else:\n",
    "        return None\n",
    "    \n",
    "def get_extent(x):\n",
    "    \n",
    "    if pd.isnull(x):\n",
    "        return None\n",
    "    \n",
    "    pattern = r'([0-9]+)\\sBl\\.'\n",
    "    if re.search(pattern, x) != None:\n",
    "        return int(re.search(pattern, x).groups()[0])\n",
    "    \n",
    "    else:\n",
    "        return None\n",
    "    \n",
    "    \n",
    "def fix_lang(x):\n",
    "    if type(x) == str and len(x) > 0:\n",
    "        return x\n",
    "    else:\n",
    "        return None"
   ]
  },
  {
   "cell_type": "code",
   "execution_count": 5,
   "metadata": {},
   "outputs": [],
   "source": [
    "df['Year'] = df['Creation'].apply(get_year)\n",
    "df['Pages'] = df['Extent'].apply(get_extent)\n",
    "df['Area'] = df['Height'] * df['Width']\n",
    "df['Language'] = df['Language'].apply(fix_lang)"
   ]
  },
  {
   "cell_type": "markdown",
   "metadata": {},
   "source": [
    "### Cleaned Dataset: <a id='clean'></a>\n",
    "\n",
    "From the cleaned version of the dataset, we will isolate the columns we will use and create a new table called `manuscripts.` We will be working with this to learn basic statistics. Take a look at the first 5 rows of our dataset below:"
   ]
  },
  {
   "cell_type": "code",
   "execution_count": 6,
   "metadata": {},
   "outputs": [
    {
     "data": {
      "text/html": [
       "<div>\n",
       "<style scoped>\n",
       "    .dataframe tbody tr th:only-of-type {\n",
       "        vertical-align: middle;\n",
       "    }\n",
       "\n",
       "    .dataframe tbody tr th {\n",
       "        vertical-align: top;\n",
       "    }\n",
       "\n",
       "    .dataframe thead th {\n",
       "        text-align: right;\n",
       "    }\n",
       "</style>\n",
       "<table border=\"1\" class=\"dataframe\">\n",
       "  <thead>\n",
       "    <tr style=\"text-align: right;\">\n",
       "      <th></th>\n",
       "      <th>Year</th>\n",
       "      <th>Pages</th>\n",
       "      <th>Height</th>\n",
       "      <th>Width</th>\n",
       "      <th>Area</th>\n",
       "      <th>Language</th>\n",
       "    </tr>\n",
       "  </thead>\n",
       "  <tbody>\n",
       "    <tr>\n",
       "      <th>0</th>\n",
       "      <td>1450.0</td>\n",
       "      <td>174.0</td>\n",
       "      <td>33.952409</td>\n",
       "      <td>23.232533</td>\n",
       "      <td>788.800465</td>\n",
       "      <td>Latin</td>\n",
       "    </tr>\n",
       "    <tr>\n",
       "      <th>1</th>\n",
       "      <td>1450.0</td>\n",
       "      <td>342.0</td>\n",
       "      <td>50.471658</td>\n",
       "      <td>31.178500</td>\n",
       "      <td>1573.630579</td>\n",
       "      <td>Latin</td>\n",
       "    </tr>\n",
       "    <tr>\n",
       "      <th>2</th>\n",
       "      <td>1400.0</td>\n",
       "      <td>283.0</td>\n",
       "      <td>31.110980</td>\n",
       "      <td>21.488400</td>\n",
       "      <td>668.525183</td>\n",
       "      <td>Latin</td>\n",
       "    </tr>\n",
       "    <tr>\n",
       "      <th>3</th>\n",
       "      <td>1400.0</td>\n",
       "      <td>291.0</td>\n",
       "      <td>32.988034</td>\n",
       "      <td>21.399500</td>\n",
       "      <td>705.927433</td>\n",
       "      <td>Latin</td>\n",
       "    </tr>\n",
       "    <tr>\n",
       "      <th>4</th>\n",
       "      <td>1400.0</td>\n",
       "      <td>328.0</td>\n",
       "      <td>32.674505</td>\n",
       "      <td>22.783800</td>\n",
       "      <td>744.449393</td>\n",
       "      <td>Latin</td>\n",
       "    </tr>\n",
       "  </tbody>\n",
       "</table>\n",
       "</div>"
      ],
      "text/plain": [
       "     Year  Pages     Height      Width         Area Language\n",
       "0  1450.0  174.0  33.952409  23.232533   788.800465    Latin\n",
       "1  1450.0  342.0  50.471658  31.178500  1573.630579    Latin\n",
       "2  1400.0  283.0  31.110980  21.488400   668.525183    Latin\n",
       "3  1400.0  291.0  32.988034  21.399500   705.927433    Latin\n",
       "4  1400.0  328.0  32.674505  22.783800   744.449393    Latin"
      ]
     },
     "execution_count": 6,
     "metadata": {},
     "output_type": "execute_result"
    }
   ],
   "source": [
    "manuscripts = df[['Year', 'Pages', 'Height', 'Width', 'Area','Language']]\n",
    "manuscripts.head()"
   ]
  },
  {
   "cell_type": "markdown",
   "metadata": {},
   "source": [
    "## 1. Mean, Median, Mode  <a id='1'></a>\n",
    "\n",
    "Let's review the definitions of the three main measures of central tendency: **Mean, Median, Mode**"
   ]
  },
  {
   "cell_type": "markdown",
   "metadata": {},
   "source": [
    "### Mean\n",
    "\n",
    "The mean of a set of values is the quantity given by the following formula:\n",
    "\n",
    "$$\n",
    "\\frac{\\text{Sum of values}}{\\text{# of values}}\n",
    "$$\n"
   ]
  },
  {
   "cell_type": "markdown",
   "metadata": {},
   "source": [
    "Let's say we want to figure out the average number of pages from all the manuscripts in our dataset. To find this, we first isolate the `Pages` coumn and apply the `mean()` function:"
   ]
  },
  {
   "cell_type": "code",
   "execution_count": 7,
   "metadata": {
    "scrolled": true
   },
   "outputs": [
    {
     "data": {
      "text/plain": [
       "150.22863741339492"
      ]
     },
     "execution_count": 7,
     "metadata": {},
     "output_type": "execute_result"
    }
   ],
   "source": [
    "manuscripts['Pages'].mean()"
   ]
  },
  {
   "cell_type": "markdown",
   "metadata": {},
   "source": [
    "### Median\n",
    "\n",
    "The \"middle\" value of a dataset. That is, if you make an ordered list of the values from smallest to largest, the median is the middle value. If the number of values is even, then the median is the average of the 2 middle values. Similar to `mean`, there is a `median()` function that you can call on a set of values."
   ]
  },
  {
   "cell_type": "code",
   "execution_count": 8,
   "metadata": {},
   "outputs": [
    {
     "data": {
      "text/plain": [
       "140.0"
      ]
     },
     "execution_count": 8,
     "metadata": {},
     "output_type": "execute_result"
    }
   ],
   "source": [
    "manuscripts['Pages'].median()"
   ]
  },
  {
   "cell_type": "markdown",
   "metadata": {},
   "source": [
    "### Mode\n",
    "\n",
    "The mode of a set of values is a value that occurs the most frequently. There can be multiple modes in a dataset."
   ]
  },
  {
   "cell_type": "code",
   "execution_count": 9,
   "metadata": {},
   "outputs": [
    {
     "data": {
      "text/plain": [
       "0    1.0\n",
       "dtype: float64"
      ]
     },
     "execution_count": 9,
     "metadata": {},
     "output_type": "execute_result"
    }
   ],
   "source": [
    "manuscripts['Pages'].mode()"
   ]
  },
  {
   "cell_type": "markdown",
   "metadata": {},
   "source": [
    "For a quick exercise, find the mean, median, and mode of the `Year` column of the manuscripts dataset."
   ]
  },
  {
   "cell_type": "code",
   "execution_count": 10,
   "metadata": {},
   "outputs": [
    {
     "name": "stdout",
     "output_type": "stream",
     "text": [
      "The mean of the Year column is:  Ellipsis\n",
      "The median of the Year column is:  Ellipsis\n",
      "The mode of the Year column is:  Ellipsis\n"
     ]
    }
   ],
   "source": [
    "# Replace the ellipses with your own code\n",
    "year_mean = ...\n",
    "year_median = ...\n",
    "year_mode = ...\n",
    "\n",
    "print(\"The mean of the Year column is: \", year_mean)\n",
    "print(\"The median of the Year column is: \", year_median)\n",
    "print(\"The mode of the Year column is: \", year_mode)"
   ]
  },
  {
   "cell_type": "markdown",
   "metadata": {},
   "source": [
    "Great! But that's too easy. And it really doesn't give much insight. What if we want to find out the average page of manuscripts in each of the different languages?\n",
    "\n",
    "First we isolate the two columns we need: `Language` and `Pages`. Then we apply the `dropna()` function that removes the rows with missing values. Then, we use the `groupby()` function and put `Language` as a parameter, indicating we are \"grouping\" by the `Language` column. Finally, we select the `Pages` column and again use the `mean()` function to calculate the average *by Language*."
   ]
  },
  {
   "cell_type": "code",
   "execution_count": 11,
   "metadata": {},
   "outputs": [
    {
     "data": {
      "text/plain": [
       "Language\n",
       "Arabic                                139.255319\n",
       "Armenian                              287.000000\n",
       "Bulgarian                             221.000000\n",
       "Catalan                               126.000000\n",
       "Dutch                                 206.000000\n",
       "French, Old (842-ca.1400)             142.250000\n",
       "German                                 75.090909\n",
       "German, Middle High (ca.1050-1500)     85.729508\n",
       "German, Old High (ca.750-1050)         42.666667\n",
       "Germanic                               76.000000\n",
       "Greek                                 161.500000\n",
       "Greek, Ancient (to 1453)              229.540541\n",
       "Hebrew                                165.208955\n",
       "Italian                                79.000000\n",
       "Lateinisch                            164.000000\n",
       "Latin                                 153.400426\n",
       "Persian                               105.000000\n",
       "Persian, Old (ca.600-400 B.C.)        104.000000\n",
       "Slavic                                  2.000000\n",
       "Turkish                                92.000000\n",
       "Name: Pages, dtype: float64"
      ]
     },
     "execution_count": 11,
     "metadata": {},
     "output_type": "execute_result"
    }
   ],
   "source": [
    "manuscripts[['Language', 'Pages']].dropna().groupby(['Language'])['Pages'].mean()"
   ]
  },
  {
   "cell_type": "markdown",
   "metadata": {},
   "source": [
    "Awesome! Now, can you try figuring out how to get the average `Area` by `Language`?"
   ]
  },
  {
   "cell_type": "code",
   "execution_count": 12,
   "metadata": {},
   "outputs": [],
   "source": [
    "#SOLUTION\n",
    "#manuscripts[['Language', 'Area']].dropna().groupby(['Language'])['Area'].mean()"
   ]
  },
  {
   "cell_type": "markdown",
   "metadata": {},
   "source": [
    "Cool! Now that we know how to do some basic calculations, we can do more interesting things: data visualization! One of the most useful visualization for statistics is called a **boxplot**. Boxplots are a standardized way of displaying the distribution of data:\n",
    "![a](https://pro.arcgis.com/en/pro-app/help/analysis/geoprocessing/charts/GUID-0E2C3730-C535-40CD-8152-80D794A996A7-web.png)\n"
   ]
  },
  {
   "cell_type": "markdown",
   "metadata": {},
   "source": [
    "We can create a [boxplot](https://seaborn.pydata.org/generated/seaborn.boxplot.html) of the number of pages of each manuscript by langauge:"
   ]
  },
  {
   "cell_type": "code",
   "execution_count": 13,
   "metadata": {},
   "outputs": [
    {
     "data": {
      "image/png": "[encoded data removed]",
      "text/plain": [
       "<matplotlib.figure.Figure at 0x7fc51b30c828>"
      ]
     },
     "metadata": {},
     "output_type": "display_data"
    }
   ],
   "source": [
    "sns.set_style(\"whitegrid\")\n",
    "fig, ax = plt.subplots(figsize=(11.7, 8.27))\n",
    "ax = sns.boxplot(ax = ax, data=manuscripts.dropna(),x='Pages', y='Language')"
   ]
  },
  {
   "cell_type": "markdown",
   "metadata": {},
   "source": [
    "Take a moment to study the boxplot and lcoate the minimum, median, and maximum number of pages by language. You can also start to compare the average number of pages of manuscripts found in different languages by looking at where the medians are. What language has, on average, the most number of pages per manuscripts?"
   ]
  },
  {
   "cell_type": "markdown",
   "metadata": {},
   "source": [
    "Let's look at another one. Here's a boxplot of the height of each manuscript by langauge:"
   ]
  },
  {
   "cell_type": "code",
   "execution_count": 14,
   "metadata": {},
   "outputs": [
    {
     "data": {
      "image/png": "[encoded data removed]",
      "text/plain": [
       "<matplotlib.figure.Figure at 0x7fc51b2eaac8>"
      ]
     },
     "metadata": {},
     "output_type": "display_data"
    }
   ],
   "source": [
    "fig, ax = plt.subplots(figsize=(11.7, 8.27))\n",
    "ax = sns.boxplot(ax = ax, data=manuscripts.dropna(),x='Height', y='Language')"
   ]
  },
  {
   "cell_type": "markdown",
   "metadata": {},
   "source": [
    "Now it's your turn! Try creating a boxplot of the `Width` of the manuscripts by `Language`."
   ]
  },
  {
   "cell_type": "code",
   "execution_count": 15,
   "metadata": {},
   "outputs": [],
   "source": [
    "#SOLUTION\n",
    "#fig, ax = plt.subplots(figsize=(11.7, 8.27))\n",
    "#ax = sns.boxplot(ax = ax, data=manuscripts.dropna(),x='Width', y='Language')"
   ]
  },
  {
   "cell_type": "markdown",
   "metadata": {},
   "source": [
    "How about a box plot of the `Height` of the manuscripts by `Language`?"
   ]
  },
  {
   "cell_type": "code",
   "execution_count": 16,
   "metadata": {},
   "outputs": [],
   "source": [
    "#SOLUTION\n",
    "#fig, ax = plt.subplots(figsize=(11.7, 8.27))\n",
    "#ax = sns.boxplot(ax = ax, data=manuscripts.dropna(),x='Area', y='Language')"
   ]
  },
  {
   "cell_type": "markdown",
   "metadata": {},
   "source": [
    "Awesome! Boxplots are powerful visualizations that can give a quick overview of that data's basic make up, making it also useful for comparison."
   ]
  },
  {
   "cell_type": "markdown",
   "metadata": {},
   "source": [
    "## 2. Standard Deviation (SD)  <a id='2'></a>\n",
    "\n",
    "Standard deviation (SD) \"measures roughly how far the numbers on the list are from their average\" by calculating the root mean square of deviations from average:\n",
    "\n",
    "$$\n",
    "=\\sqrt{\\frac{\\text{Sum[(value$_{1}$ - average)$^2$ + (value$_{2}$ - average)$^2$ ... (value$_{n}$ - average)$^2$]}}{n}}\n",
    "$$\n",
    "\n",
    "where $n$ is the number of values in the dataset."
   ]
  },
  {
   "cell_type": "markdown",
   "metadata": {},
   "source": [
    "To calculate the SD of a number we simply use the `np.std()`. For example, to find out the SD of the number of pages of all the greek manuscripts, we will use the following code:"
   ]
  },
  {
   "cell_type": "code",
   "execution_count": 37,
   "metadata": {},
   "outputs": [
    {
     "data": {
      "text/plain": [
       "121.77951387651373"
      ]
     },
     "execution_count": 37,
     "metadata": {},
     "output_type": "execute_result"
    }
   ],
   "source": [
    "greek_manuscipts = manuscripts.loc[df['Language'] == 'Greek'].dropna()\n",
    "np.std(greek_manuscipts[\"Pages\"])"
   ]
  },
  {
   "cell_type": "markdown",
   "metadata": {},
   "source": [
    "What we can infer from this is that the average Greek manuscript's page length is roughly 121 pages more or less than the mean of all page lengths of all Greek manuscripts, which is 161 pages. \n",
    "\n",
    "Below, we can see all the SDs for each of the columns."
   ]
  },
  {
   "cell_type": "code",
   "execution_count": 38,
   "metadata": {},
   "outputs": [
    {
     "data": {
      "text/plain": [
       "Year      149.071198\n",
       "Pages     121.779514\n",
       "Height      6.688145\n",
       "Width       5.452808\n",
       "Area      265.635872\n",
       "dtype: float64"
      ]
     },
     "execution_count": 38,
     "metadata": {},
     "output_type": "execute_result"
    }
   ],
   "source": [
    "np.std(greek_manuscipts)"
   ]
  },
  {
   "cell_type": "markdown",
   "metadata": {},
   "source": [
    "## 3. T-Test  <a id='3'></a>"
   ]
  },
  {
   "cell_type": "markdown",
   "metadata": {},
   "source": [
    "[T-tests](https://docs.scipy.org/doc/scipy/reference/generated/scipy.stats.ttest_ind.html) are a method of testing hypotheses in statistics. They are used to help determine if there is a significant likelihood that the means of two independent populations differ.\n",
    "\n",
    "To illustrate this concept, let's first come up with a research question. Suppose we wanted to know if there exists a significant difference in average page length between Latin and German manuscripts.\n",
    "\n",
    "**Our null hypothesis**: There is no substantial difference in average page length between Latin and German manuscripts in general. That is, the difference between average page lengths is 0. \n",
    "\n",
    "Using our samples of Latin and German manuscripts, we can proceed to use a T-test to test this hypothesis.\n"
   ]
  },
  {
   "cell_type": "markdown",
   "metadata": {},
   "source": [
    "Let's first select the page lengths for all German manuscripts in our data:"
   ]
  },
  {
   "cell_type": "code",
   "execution_count": 40,
   "metadata": {},
   "outputs": [
    {
     "data": {
      "text/html": [
       "<div>\n",
       "<style scoped>\n",
       "    .dataframe tbody tr th:only-of-type {\n",
       "        vertical-align: middle;\n",
       "    }\n",
       "\n",
       "    .dataframe tbody tr th {\n",
       "        vertical-align: top;\n",
       "    }\n",
       "\n",
       "    .dataframe thead th {\n",
       "        text-align: right;\n",
       "    }\n",
       "</style>\n",
       "<table border=\"1\" class=\"dataframe\">\n",
       "  <thead>\n",
       "    <tr style=\"text-align: right;\">\n",
       "      <th></th>\n",
       "      <th>Language</th>\n",
       "      <th>Pages</th>\n",
       "    </tr>\n",
       "  </thead>\n",
       "  <tbody>\n",
       "    <tr>\n",
       "      <th>47</th>\n",
       "      <td>German</td>\n",
       "      <td>364.0</td>\n",
       "    </tr>\n",
       "    <tr>\n",
       "      <th>54</th>\n",
       "      <td>German</td>\n",
       "      <td>30.0</td>\n",
       "    </tr>\n",
       "    <tr>\n",
       "      <th>79</th>\n",
       "      <td>German</td>\n",
       "      <td>84.0</td>\n",
       "    </tr>\n",
       "    <tr>\n",
       "      <th>198</th>\n",
       "      <td>German</td>\n",
       "      <td>1.0</td>\n",
       "    </tr>\n",
       "    <tr>\n",
       "      <th>235</th>\n",
       "      <td>German</td>\n",
       "      <td>18.0</td>\n",
       "    </tr>\n",
       "  </tbody>\n",
       "</table>\n",
       "</div>"
      ],
      "text/plain": [
       "    Language  Pages\n",
       "47    German  364.0\n",
       "54    German   30.0\n",
       "79    German   84.0\n",
       "198   German    1.0\n",
       "235   German   18.0"
      ]
     },
     "execution_count": 40,
     "metadata": {},
     "output_type": "execute_result"
    }
   ],
   "source": [
    "group1 = manuscripts[manuscripts['Language']=='German'][['Language', 'Pages']].dropna()\n",
    "group1.head()"
   ]
  },
  {
   "cell_type": "markdown",
   "metadata": {},
   "source": [
    "and all Latin manuscripts:"
   ]
  },
  {
   "cell_type": "code",
   "execution_count": 42,
   "metadata": {},
   "outputs": [
    {
     "data": {
      "text/html": [
       "<div>\n",
       "<style scoped>\n",
       "    .dataframe tbody tr th:only-of-type {\n",
       "        vertical-align: middle;\n",
       "    }\n",
       "\n",
       "    .dataframe tbody tr th {\n",
       "        vertical-align: top;\n",
       "    }\n",
       "\n",
       "    .dataframe thead th {\n",
       "        text-align: right;\n",
       "    }\n",
       "</style>\n",
       "<table border=\"1\" class=\"dataframe\">\n",
       "  <thead>\n",
       "    <tr style=\"text-align: right;\">\n",
       "      <th></th>\n",
       "      <th>Language</th>\n",
       "      <th>Pages</th>\n",
       "    </tr>\n",
       "  </thead>\n",
       "  <tbody>\n",
       "    <tr>\n",
       "      <th>0</th>\n",
       "      <td>Latin</td>\n",
       "      <td>174.0</td>\n",
       "    </tr>\n",
       "    <tr>\n",
       "      <th>1</th>\n",
       "      <td>Latin</td>\n",
       "      <td>342.0</td>\n",
       "    </tr>\n",
       "    <tr>\n",
       "      <th>2</th>\n",
       "      <td>Latin</td>\n",
       "      <td>283.0</td>\n",
       "    </tr>\n",
       "    <tr>\n",
       "      <th>3</th>\n",
       "      <td>Latin</td>\n",
       "      <td>291.0</td>\n",
       "    </tr>\n",
       "    <tr>\n",
       "      <th>4</th>\n",
       "      <td>Latin</td>\n",
       "      <td>328.0</td>\n",
       "    </tr>\n",
       "  </tbody>\n",
       "</table>\n",
       "</div>"
      ],
      "text/plain": [
       "  Language  Pages\n",
       "0    Latin  174.0\n",
       "1    Latin  342.0\n",
       "2    Latin  283.0\n",
       "3    Latin  291.0\n",
       "4    Latin  328.0"
      ]
     },
     "execution_count": 42,
     "metadata": {},
     "output_type": "execute_result"
    }
   ],
   "source": [
    "group2 = manuscripts[manuscripts['Language']=='Latin'][['Language', 'Pages']].dropna()\n",
    "group2.head()"
   ]
  },
  {
   "cell_type": "markdown",
   "metadata": {},
   "source": [
    "Now that we have two different, independent samples, we can use the function `ttest_ind`, which takes in 2 arrays, one for each group, to perform the T-test:"
   ]
  },
  {
   "cell_type": "code",
   "execution_count": 46,
   "metadata": {},
   "outputs": [
    {
     "data": {
      "text/plain": [
       "Ttest_indResult(statistic=-2.820794878955899, pvalue=0.0048904735102955708)"
      ]
     },
     "execution_count": 46,
     "metadata": {},
     "output_type": "execute_result"
    }
   ],
   "source": [
    "ttest_ind(group1['Pages'], group2['Pages'])"
   ]
  },
  {
   "cell_type": "markdown",
   "metadata": {},
   "source": [
    "Notice that the **p-value** is less than .005.\n",
    "\n",
    "The p-value is essentially the probability that the result we observed happened by chance. Thus, the lower the p-value, the higher the likelihood that the mean between Latin and German manuscripts in general differs from 0. \n",
    "\n",
    "In addition, we say we \"reject the null hypothesis\" when the p-value is below a certain threshold. \n",
    "\n",
    "> If the p-value is smaller than the threshold, e.g. 1%, 5% or 10%, then we reject the null hypothesis of equal averages.\n",
    "\n",
    "So, in this case, we can reject the null hypothesis at the 1% (p-value less than 0.01) threshold, and we can be confident that there is indeed a difference in average page length between Latin and German manuscripts in general."
   ]
  },
  {
   "cell_type": "markdown",
   "metadata": {},
   "source": [
    "## 4. Correlation <a id='4'></a>"
   ]
  },
  {
   "cell_type": "markdown",
   "metadata": {},
   "source": [
    "Correlation measures the strength of a linear association between two variables. We want to know: what happens to one variable as the other increases? Is there an obvious linear pattern? \n",
    "\n",
    "* If one variable increases when the other increases, the two variables are **positively correlated**. \n",
    "* Conversely, when one variable increases when the other decreases, the two variables are **negatively correlated**.\n",
    "\n",
    "\n",
    "\n",
    "Let's look at some examples."
   ]
  },
  {
   "cell_type": "markdown",
   "metadata": {},
   "source": [
    "### Perfect Positive Correlation"
   ]
  },
  {
   "cell_type": "code",
   "execution_count": 62,
   "metadata": {},
   "outputs": [
    {
     "data": {
      "text/plain": [
       "(0, 50)"
      ]
     },
     "execution_count": 62,
     "metadata": {},
     "output_type": "execute_result"
    },
    {
     "data": {
      "image/png": "[encoded data removed]",
      "text/plain": [
       "<matplotlib.figure.Figure at 0x7fc51370ebe0>"
      ]
     },
     "metadata": {},
     "output_type": "display_data"
    }
   ],
   "source": [
    "# Generating dummy data\n",
    "pos_x = np.arange(0, 50)\n",
    "pos_y = 3*pos_x + 5\n",
    "sns.regplot(x=pos_x, y=pos_y)\n",
    "plt.xlim(0, 50)"
   ]
  },
  {
   "cell_type": "markdown",
   "metadata": {},
   "source": [
    "### Perfect Negative Correlation"
   ]
  },
  {
   "cell_type": "code",
   "execution_count": 63,
   "metadata": {},
   "outputs": [
    {
     "data": {
      "text/plain": [
       "(0, 50)"
      ]
     },
     "execution_count": 63,
     "metadata": {},
     "output_type": "execute_result"
    },
    {
     "data": {
      "image/png": "[encoded data removed]",
      "text/plain": [
       "<matplotlib.figure.Figure at 0x7fc513926d30>"
      ]
     },
     "metadata": {},
     "output_type": "display_data"
    }
   ],
   "source": [
    "neg_x = np.arange(0, 50)\n",
    "neg_y = -4*neg_x + 5\n",
    "sns.regplot(x=neg_x, y=neg_y)\n",
    "plt.xlim(0, 50)"
   ]
  },
  {
   "cell_type": "markdown",
   "metadata": {},
   "source": [
    "As you can see above, perfect correlation implies that the relationship between the two variables can be defined by a line. However, perfect correlation rarely occurs in the real world. It's more likely that you will see data such as the following:"
   ]
  },
  {
   "cell_type": "code",
   "execution_count": 53,
   "metadata": {},
   "outputs": [
    {
     "data": {
      "image/png": "[encoded data removed]",
      "text/plain": [
       "<matplotlib.figure.Figure at 0x7fc51b2cc5f8>"
      ]
     },
     "metadata": {},
     "output_type": "display_data"
    }
   ],
   "source": [
    "ax = sns.regplot(x=\"Height\", y=\"Width\", data=manuscripts, scatter_kws={'s':20})"
   ]
  },
  {
   "cell_type": "markdown",
   "metadata": {},
   "source": [
    "Although it isn't perfect correlation, the variables Height and Width do seem to be strongly positively correlated. "
   ]
  },
  {
   "cell_type": "code",
   "execution_count": 56,
   "metadata": {},
   "outputs": [
    {
     "data": {
      "image/png": "[encoded data removed]",
      "text/plain": [
       "<matplotlib.figure.Figure at 0x7fc513837a90>"
      ]
     },
     "metadata": {},
     "output_type": "display_data"
    }
   ],
   "source": [
    "ax = sns.regplot(x=\"Year\", y=\"Pages\", data=manuscripts, scatter_kws={'s':20})"
   ]
  },
  {
   "cell_type": "markdown",
   "metadata": {},
   "source": [
    "On the other hand, the Year and Pages variables show little to no correlation."
   ]
  },
  {
   "cell_type": "markdown",
   "metadata": {},
   "source": [
    "The correlation between two variables can be quantified by $r$, the **correlation coefficient**, where\n",
    "\n",
    "$$\n",
    "-1 \\leq r \\leq 1\n",
    "$$\n",
    "\n",
    "That is, $r$ ranges from -1 to 1, depending on the direction and strength of correlation. \n",
    "\n",
    "> **Direction**: The sign of $r$ denotes where the correlation is positive or negative. The coefficient is 1 when the two variables are perfectly positively correlated and -1 when the two variables are perfectly negatively correlated.\n",
    "\n",
    "> **Strength**: The closer $r$ is to 0, the less the two variables are correlated. In other words, the greater the absolute value of $r$, the greater the correlation."
   ]
  },
  {
   "cell_type": "markdown",
   "metadata": {},
   "source": [
    "Now, we can ask, what is the correlation between Height and Width?"
   ]
  },
  {
   "cell_type": "markdown",
   "metadata": {},
   "source": [
    "With one command, we can create a correlation matrix, showing the correlation between each variable in our table with every other variable. Notice that each variable is perfectly correlated with itself, as expected."
   ]
  },
  {
   "cell_type": "code",
   "execution_count": 59,
   "metadata": {},
   "outputs": [
    {
     "data": {
      "text/html": [
       "<div>\n",
       "<style scoped>\n",
       "    .dataframe tbody tr th:only-of-type {\n",
       "        vertical-align: middle;\n",
       "    }\n",
       "\n",
       "    .dataframe tbody tr th {\n",
       "        vertical-align: top;\n",
       "    }\n",
       "\n",
       "    .dataframe thead th {\n",
       "        text-align: right;\n",
       "    }\n",
       "</style>\n",
       "<table border=\"1\" class=\"dataframe\">\n",
       "  <thead>\n",
       "    <tr style=\"text-align: right;\">\n",
       "      <th></th>\n",
       "      <th>Year</th>\n",
       "      <th>Pages</th>\n",
       "      <th>Height</th>\n",
       "      <th>Width</th>\n",
       "      <th>Area</th>\n",
       "    </tr>\n",
       "  </thead>\n",
       "  <tbody>\n",
       "    <tr>\n",
       "      <th>Year</th>\n",
       "      <td>1.000000</td>\n",
       "      <td>0.135827</td>\n",
       "      <td>0.002319</td>\n",
       "      <td>-0.049251</td>\n",
       "      <td>0.003805</td>\n",
       "    </tr>\n",
       "    <tr>\n",
       "      <th>Pages</th>\n",
       "      <td>0.135827</td>\n",
       "      <td>1.000000</td>\n",
       "      <td>0.162585</td>\n",
       "      <td>0.111609</td>\n",
       "      <td>0.137876</td>\n",
       "    </tr>\n",
       "    <tr>\n",
       "      <th>Height</th>\n",
       "      <td>0.002319</td>\n",
       "      <td>0.162585</td>\n",
       "      <td>1.000000</td>\n",
       "      <td>0.817228</td>\n",
       "      <td>0.930910</td>\n",
       "    </tr>\n",
       "    <tr>\n",
       "      <th>Width</th>\n",
       "      <td>-0.049251</td>\n",
       "      <td>0.111609</td>\n",
       "      <td>0.817228</td>\n",
       "      <td>1.000000</td>\n",
       "      <td>0.933150</td>\n",
       "    </tr>\n",
       "    <tr>\n",
       "      <th>Area</th>\n",
       "      <td>0.003805</td>\n",
       "      <td>0.137876</td>\n",
       "      <td>0.930910</td>\n",
       "      <td>0.933150</td>\n",
       "      <td>1.000000</td>\n",
       "    </tr>\n",
       "  </tbody>\n",
       "</table>\n",
       "</div>"
      ],
      "text/plain": [
       "            Year     Pages    Height     Width      Area\n",
       "Year    1.000000  0.135827  0.002319 -0.049251  0.003805\n",
       "Pages   0.135827  1.000000  0.162585  0.111609  0.137876\n",
       "Height  0.002319  0.162585  1.000000  0.817228  0.930910\n",
       "Width  -0.049251  0.111609  0.817228  1.000000  0.933150\n",
       "Area    0.003805  0.137876  0.930910  0.933150  1.000000"
      ]
     },
     "execution_count": 59,
     "metadata": {},
     "output_type": "execute_result"
    }
   ],
   "source": [
    "manuscripts.corr()"
   ]
  },
  {
   "cell_type": "markdown",
   "metadata": {},
   "source": [
    "As a quick exercise, take a look at the table and find a pair variables that:\n",
    "* positively correlated\n",
    "* negatively correlated\n",
    "* strongly correlated (positive or negative)"
   ]
  },
  {
   "cell_type": "code",
   "execution_count": null,
   "metadata": {},
   "outputs": [],
   "source": []
  },
  {
   "cell_type": "code",
   "execution_count": 116,
   "metadata": {
    "collapsed": true
   },
   "outputs": [],
   "source": [
    "mod = smf.ols(formula='Width ~ Height', data=manuscripts)\n",
    "res = mod.fit()\n",
    "#print(res.summary())"
   ]
  },
  {
   "cell_type": "code",
   "execution_count": 117,
   "metadata": {
    "collapsed": true
   },
   "outputs": [],
   "source": [
    "mod = smf.ols(formula='Pages ~ Year', data=manuscripts)\n",
    "res = mod.fit()\n",
    "#print(res.summary())"
   ]
  },
  {
   "cell_type": "code",
   "execution_count": 119,
   "metadata": {
    "collapsed": true
   },
   "outputs": [],
   "source": [
    "# mod = smf.ols(formula='Area ~ Year', data=manuscripts)\n",
    "# res = mod.fit()\n",
    "# #print(res.summary())"
   ]
  },
  {
   "cell_type": "code",
   "execution_count": 121,
   "metadata": {},
   "outputs": [
    {
     "data": {
      "image/png": "[encoded data removed]",
      "text/plain": [
       "<matplotlib.figure.Figure at 0x1125df128>"
      ]
     },
     "metadata": {},
     "output_type": "display_data"
    }
   ],
   "source": [
    "# bins = list(range(700, 1601, 50))\n",
    "# manuscripts['Year_Bins'] = pd.cut(df['Year'], bins)\n",
    "# ax = manuscripts.groupby(['Year_Bins'])['Pages'].mean().plot.barh()"
   ]
  },
  {
   "cell_type": "markdown",
   "metadata": {},
   "source": [
    "## 5. (light) Regression  <a id='5'></a>"
   ]
  },
  {
   "cell_type": "code",
   "execution_count": null,
   "metadata": {},
   "outputs": [],
   "source": []
  },
  {
   "cell_type": "code",
   "execution_count": null,
   "metadata": {},
   "outputs": [],
   "source": []
  },
  {
   "cell_type": "code",
   "execution_count": null,
   "metadata": {},
   "outputs": [],
   "source": []
  },
  {
   "cell_type": "markdown",
   "metadata": {
    "collapsed": true
   },
   "source": [
    "## 6. Frequenices of Words <a id='6'></a>"
   ]
  },
  {
   "cell_type": "markdown",
   "metadata": {},
   "source": [
    "In this final section, we will look at how to calculate and plot word frequencies in a text."
   ]
  },
  {
   "cell_type": "markdown",
   "metadata": {},
   "source": [
    "Let's first read in our text file `Anon_Gawain.txt`:"
   ]
  },
  {
   "cell_type": "code",
   "execution_count": 73,
   "metadata": {},
   "outputs": [],
   "source": [
    "with open('data/Anon_Gawain.txt', 'r') as f:\n",
    "    text = f.read()\n",
    "f.close()"
   ]
  },
  {
   "cell_type": "markdown",
   "metadata": {},
   "source": [
    "and split the text file into pages:"
   ]
  },
  {
   "cell_type": "code",
   "execution_count": 70,
   "metadata": {},
   "outputs": [],
   "source": [
    "pattern = re.compile(r'[pP]age\\s+[0-9]+')\n",
    "pages = re.split(pattern, text)"
   ]
  },
  {
   "cell_type": "markdown",
   "metadata": {},
   "source": [
    "How many pages are there in the text?"
   ]
  },
  {
   "cell_type": "code",
   "execution_count": 71,
   "metadata": {},
   "outputs": [
    {
     "data": {
      "text/plain": [
       "69"
      ]
     },
     "execution_count": 71,
     "metadata": {},
     "output_type": "execute_result"
    }
   ],
   "source": [
    "len(pages)"
   ]
  },
  {
   "cell_type": "code",
   "execution_count": null,
   "metadata": {},
   "outputs": [],
   "source": []
  }
 ],
 "metadata": {
  "anaconda-cloud": {},
  "kernelspec": {
   "display_name": "Python 3",
   "language": "python",
   "name": "python3"
  },
  "language_info": {
   "codemirror_mode": {
    "name": "ipython",
    "version": 3
   },
   "file_extension": ".py",
   "mimetype": "text/x-python",
   "name": "python",
   "nbconvert_exporter": "python",
   "pygments_lexer": "ipython3",
   "version": "3.5.4"
  }
 },
 "nbformat": 4,
 "nbformat_minor": 2
}
