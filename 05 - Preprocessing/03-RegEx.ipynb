{
 "cells": [
  {
   "cell_type": "markdown",
   "metadata": {},
   "source": [
    "<div style='background-image: url(\"../share/Aerial_view_LLNL.jpg\") ; padding: 0px ; background-size: cover ; border-radius: 15px ; height: 250px; background-position: 0% 80%'>\n",
    "    <div style=\"float: center ; margin: 50px ; padding: 20px ; background: rgba(255 , 255 , 255 , 0.8) ; width: 50% ; height: 150px\">\n",
    "        <div style=\"position: relative ; top: 50% ; transform: translatey(-50%)\">\n",
    "            <div style=\"font-size: xx-large ; font-weight: 900 ; color: rgba(0 , 0 , 0 , 0.9) ; line-height: 100%\">Notebook 3:</div>\n",
    "            <div style=\"font-size: x-large ; padding-top: 20px ; color: rgba(0 , 0 , 0 , 0.7)\">RegEx</div>\n",
    "            <div style=\"font-size: large ; padding-top: 20px ; color: rgba(0 , 0 , 0 , 0.7)\">Estimated Time: 20 minutes</div>\n",
    "        </div>\n",
    "    </div>\n",
    "</div>\n",
    "\n",
    "\n",
    "\n",
    "\n"
   ]
  },
  {
   "cell_type": "markdown",
   "metadata": {
    "collapsed": true
   },
   "source": [
    "# Regular Expression (regex)\n",
    "\n",
    "## Overview\n",
    "\n",
    "Regular expressions (regex or regexp for short) are special sequences of characters that define patterns\n",
    "to search for in text. They're often used in find-and-replace operations, or to add up the number of words\n",
    "or phrases matching a particular pattern.\n",
    "\n",
    "Regular expressions are useful in a variety of applications, and can be used in different programs and\n",
    "programming languages. We will start by learning the general components of regular expressions, using a\n",
    "simple online tool, RegExr. Then at the end of the workshop, we'll learn how to use regular expressions\n",
    "in a text editor, Sublime. We'll also demonstrate how to use them in Python and R, for those students\n",
    "already familiar with one of those languages.\n",
    "\n",
    "To get started:\n",
    "\n",
    "1. Go to this site: [http://regexr.com](http://regexr.com).\n",
    "2. Copy and paste the New York Times leads from the file `nyt_leads.txt` into the __Text__ window on the website.\n",
    "3. Delete what you see in the __Expression__ field. This is where we'll insert our own regular expressions\n",
    "to find sequences in the headlines below.\n",
    "\n",
    "~~~ {.input}\n",
    "New York Times\t\t\t\t\t\t\t\t\t\t\tOctober 19, 2016\n",
    "Retaking Mosul From ISIS May Pale to What Comes Next\n",
    "By TIM ARANGO and RICK GLADSTONE  11:52 ET\n",
    "If the recaptures of Ramadi, Tikrit and Falluja are a guide,\n",
    "Iraqi officials will confront devastation and unexploded bombs\n",
    "once Mosul is reclaimed.\n",
    "\n",
    "New York Times\t\t\t\t\t\t\t\t\t\t\tOctober 18, 2016\n",
    "Short-Term Cease-Fire in Yemen Appears Likely\n",
    "By BEN HUBBARD  10:05 ET\n",
    "The rebels known as the Houthis said they would abide by the\n",
    "cease-fire if the Saudi military coalition halted attacks and\n",
    "lifted a blockade.\n",
    "~~~\n",
    "\n",
    "## 1. Special Characters\n",
    "\n",
    "Strings are composed of characters, and we are writing patterns to match specific sequences of characters.\n",
    "Various characters have special meaning in regular expressions. When we use these characters in an expression,\n",
    "we aren't matching the identical character, we're using the character as a placeholder for some other character(s)\n",
    "or part(s) of a string.\n",
    "\n",
    "If you want to match a character that happens to be a special character, you have to escape it with a backslash\n",
    "`\\`. Try typing the following special characters into the __Expression__ field on the regexr.com site. What happens\n",
    "when you type `New York Times` vs. `^New York Times`? How about `.`, `\\.`, or `\\.$`?\n",
    "\n",
    "~~~ {.input}\n",
    ".         any single character\n",
    "^         start of string\n",
    "$         end of string\n",
    "\\n        new line\n",
    "\\r        carriage return\n",
    "\\t        tab\n",
    "~~~\n",
    "\n",
    "## 2. Quantifiers\n",
    "\n",
    "Some special characters refer to optional characters, to a specific number of characters, or to an open-ended\n",
    "number of characters matching the preceding pattern. Try looking for the letter 'o' followed by a number of 'f's:\n",
    "what happens if you type `of`, `of*`, `of+`, `of{1}`, `of{1,2}`?\n",
    "\n",
    "~~~ {.input}\n",
    "*        0 or more of the preceding character/expression\n",
    "+        1 or more of the preceding character/expression\n",
    "?        0 or 1 of the preceding character/expression\n",
    "{n}      n copies of the preceding character/expression \n",
    "{n,m}    n to m copies of the preceding character/expression \n",
    "~~~\n",
    "\n",
    "## 2. Sets\n",
    "\n",
    "Regular expressions also allow you to define sets of characters. Within a set of square brackets, you may list\n",
    "characters individually, e.g. `[aeiou]`, or in a range, e.g. `[A-Z]` (note that all regular expressions are case\n",
    "sensitive).\n",
    "\n",
    "You can also create a complement set by excluding certain characters, using `^` as the first character\n",
    "in the set. The set `[^A-Za-z]` will match any character except a letter. All other special characters loose\n",
    "their special meaning inside a set, so the set `[.?]` will look for a literal period or question mark.\n",
    "\n",
    "The set will match only one character contained within that set, so to find sequences of multiple characters from\n",
    "the same set, use a quantifier like `+` or a specific number or number range `{n,m}`.\n",
    "\n",
    "~~~ {.input}\n",
    "[0-9]        any numeric character\n",
    "[a-z]        any lowercase alphabetic character\n",
    "[A-Z]        any uppercase alphabetic character\n",
    "[aeiou]      any vowel (i.e. any character within the brackets)\n",
    "[0-9a-z]     to combine sets, list them one after another \n",
    "[^...]       exclude specific characters\n",
    "~~~\n",
    "\n",
    "## 3. Special sequences\n",
    "\n",
    "Several special characters denote special sequences. These begin with a `\\` followed by a letter.\n",
    "Note that the uppercase version is usually the complement of the lowercase version.\n",
    "\n",
    "~~~ {.input}\n",
    "\\d        Any digit\n",
    "\\D        Any non-digit character\n",
    "\\w        Any alphanumeric character [0-9a-zA-Z_] \n",
    "\\W        Any non-alphanumeric character\n",
    "\\s        Any whitespace (space, tab, new line)\n",
    "\\S        Any non-whitespace character\n",
    "\\b        Matches the beginning or end of a word (does not consume a character)\n",
    "\\B        Matches only when the position is not the beginning or end of a word (does not consume a character)\n",
    "~~~\n",
    "\n",
    "## 4. Groups and Logical OR\n",
    "\n",
    "Parentheses are used to designate groups of characters, to aid in logical conditions, and to be able to retrieve the\n",
    "contents of certain groups separately.\n",
    "\n",
    "The pipe character `|` serves as a logical OR operator, to match the expression before or after the pipe. Group parentheses\n",
    "can be used to indicate which elements of the expression are being operated on by the `|`.\n",
    "\n",
    "~~~ {.input}\n",
    "|            Logical OR opeator\n",
    "(...)        Matches whatever regular expression is inside the parentheses, and notes the start and end of a group\n",
    "(this|that)  Matches the expression \"this\" or the expression \"that\"\n",
    "~~~\n",
    "\n",
    "# regex in Python\n",
    "\n",
    "Important methods:"
   ]
  },
  {
   "cell_type": "code",
   "execution_count": null,
   "metadata": {
    "collapsed": true
   },
   "outputs": [],
   "source": [
    "import re\n",
    "\n",
    "my_string = '''New York Times\t\t\t\t\t\t\t\t\t\t\tOctober 19, 2016\n",
    "Retaking Mosul From ISIS May Pale to What Comes Next\n",
    "By TIM ARANGO and RICK GLADSTONE  11:52 ET\n",
    "If the recaptures of Ramadi, Tikrit and Falluja are a guide,\n",
    "Iraqi officials will confront devastation and unexploded bombs\n",
    "once Mosul is reclaimed.\n",
    "\n",
    "New York Times\t\t\t\t\t\t\t\t\t\t\tOctober 18, 2016\n",
    "Short-Term Cease-Fire in Yemen Appears Likely\n",
    "By BEN HUBBARD  10:05 ET\n",
    "The rebels known as the Houthis said they would abide by the\n",
    "cease-fire if the Saudi military coalition halted attacks and\n",
    "lifted a blockade.'''"
   ]
  },
  {
   "cell_type": "code",
   "execution_count": null,
   "metadata": {
    "collapsed": true
   },
   "outputs": [],
   "source": [
    "re.compile?"
   ]
  },
  {
   "cell_type": "code",
   "execution_count": null,
   "metadata": {
    "collapsed": true
   },
   "outputs": [],
   "source": [
    "re.search?"
   ]
  },
  {
   "cell_type": "code",
   "execution_count": null,
   "metadata": {
    "collapsed": true
   },
   "outputs": [],
   "source": [
    "re.match?"
   ]
  },
  {
   "cell_type": "code",
   "execution_count": null,
   "metadata": {
    "collapsed": true
   },
   "outputs": [],
   "source": [
    "re.sub?"
   ]
  },
  {
   "cell_type": "code",
   "execution_count": null,
   "metadata": {
    "collapsed": true
   },
   "outputs": [],
   "source": [
    "re.findall?"
   ]
  },
  {
   "cell_type": "code",
   "execution_count": null,
   "metadata": {
    "collapsed": true
   },
   "outputs": [],
   "source": [
    "re.split?"
   ]
  },
  {
   "cell_type": "markdown",
   "metadata": {},
   "source": [
    "# Challenge\n",
    "\n",
    "Write some code using a regex that returns all capitalized names from `my_string`."
   ]
  },
  {
   "cell_type": "code",
   "execution_count": null,
   "metadata": {},
   "outputs": [],
   "source": []
  },
  {
   "cell_type": "markdown",
   "metadata": {},
   "source": [
    "Your answer should be *exactly*:\n",
    "\n",
    "```python\n",
    "['TIM ARANGO', 'RICK GLADSTONE', 'BEN HUBBARD']\n",
    "```"
   ]
  }
 ],
 "metadata": {
  "anaconda-cloud": {},
  "kernelspec": {
   "display_name": "Python [default]",
   "language": "python",
   "name": "python3"
  },
  "language_info": {
   "codemirror_mode": {
    "name": "ipython",
    "version": 3
   },
   "file_extension": ".py",
   "mimetype": "text/x-python",
   "name": "python",
   "nbconvert_exporter": "python",
   "pygments_lexer": "ipython3",
   "version": "3.5.2"
  }
 },
 "nbformat": 4,
 "nbformat_minor": 1
}
